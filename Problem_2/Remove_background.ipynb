{
 "cells": [
  {
   "cell_type": "code",
   "execution_count": 1,
   "id": "da4336ee-184d-4be9-ad88-24f2e1946479",
   "metadata": {},
   "outputs": [],
   "source": [
    "import cv2 as cv2\n",
    "import matplotlib.pyplot as plt\n",
    "import numpy as np"
   ]
  },
  {
   "cell_type": "code",
   "execution_count": 36,
   "id": "ee1a6127-1bd7-470f-b4bd-c61db6537a97",
   "metadata": {},
   "outputs": [],
   "source": [
    "import cv2\n",
    "import numpy as np\n",
    "\n",
    "# Загрузка видео\n",
    "cap = cv2.VideoCapture('test.mp4')\n",
    "if not cap.isOpened():\n",
    "    print(\"Error opening video stream or file\")\n",
    "\n",
    "# Параметры для фона\n",
    "background_frames = []\n",
    "mean_background = None\n",
    "threshold_value = 50  # Начальный порог для бинаризации\n",
    "num_background_frames = 10\n",
    "\n",
    "# Считываем первые несколько кадров для усредненного фона\n",
    "for _ in range(num_background_frames):\n",
    "    ret, frame = cap.read()\n",
    "    if not ret:\n",
    "        break\n",
    "    frame_gray = cv2.cvtColor(cv2.resize(frame, (512, 512)), cv2.COLOR_BGR2GRAY)\n",
    "    background_frames.append(frame_gray)\n",
    "\n",
    "# Вычисляем средний фон и его среднюю яркость\n",
    "mean_background = np.mean(background_frames, axis=0).astype(np.uint8)\n",
    "mean_background = cv2.GaussianBlur(mean_background, (3, 3), 0)\n",
    "background_brightness = np.mean(mean_background)\n",
    "\n",
    "while cap.isOpened():\n",
    "    ret, frame = cap.read()\n",
    "    if not ret:\n",
    "        break\n",
    "\n",
    "    frame_gray = cv2.cvtColor(cv2.resize(frame, (512, 512)), cv2.COLOR_BGR2GRAY)\n",
    "\n",
    "    # Коррекция яркости текущего кадра\n",
    "    frame_brightness = np.mean(frame_gray)\n",
    "    brightness_correction_factor = background_brightness / (frame_brightness + 1e-5)\n",
    "    frame_gray = cv2.convertScaleAbs(frame_gray, alpha=brightness_correction_factor)\n",
    "\n",
    "    delta = cv2.absdiff(frame_gray, mean_background)\n",
    "\n",
    "    _, mask = cv2.threshold(delta, threshold_value, 255, cv2.THRESH_BINARY + cv2.THRESH_OTSU)\n",
    "\n",
    "    # Убираем мелкие шумы с помощью морфологических операций\n",
    "    kernel = np.ones((3, 3), np.uint8)\n",
    "    mask = cv2.morphologyEx(mask, cv2.MORPH_OPEN, kernel, iterations=2)\n",
    "\n",
    "    connectivity=4\n",
    "    num_labels, labels, stats, _ = cv2.connectedComponentsWithStats(mask, connectivity, cv2.CV_32S)\n",
    "    min_area = 3000\n",
    "    filtered_mask = np.zeros_like(mask)\n",
    "    for i in range(1, num_labels):\n",
    "        if stats[i, cv2.CC_STAT_AREA] >= min_area:\n",
    "            filtered_mask[labels == i] = 255\n",
    "\n",
    "    # Дополнительная морфология для сглаживания границ\n",
    "    filtered_mask = cv2.morphologyEx(filtered_mask, cv2.MORPH_CLOSE, kernel, iterations=2)\n",
    "\n",
    "    result = cv2.bitwise_and(frame_gray, frame_gray, mask=filtered_mask)\n",
    "\n",
    "    cv2.imshow('Frame', result)\n",
    "\n",
    "    if cv2.waitKey(10) & 0xFF == ord('q'):\n",
    "        break\n",
    "\n",
    "cap.release()\n",
    "cv2.destroyAllWindows()\n"
   ]
  },
  {
   "cell_type": "code",
   "execution_count": null,
   "id": "1abb8c7b-f65c-4b92-969b-346e31dc5a9d",
   "metadata": {},
   "outputs": [],
   "source": []
  },
  {
   "cell_type": "code",
   "execution_count": null,
   "id": "b516f162-985a-4752-8411-7a04a1808d81",
   "metadata": {},
   "outputs": [],
   "source": []
  }
 ],
 "metadata": {
  "kernelspec": {
   "display_name": "Python 3 (ipykernel)",
   "language": "python",
   "name": "python3"
  },
  "language_info": {
   "codemirror_mode": {
    "name": "ipython",
    "version": 3
   },
   "file_extension": ".py",
   "mimetype": "text/x-python",
   "name": "python",
   "nbconvert_exporter": "python",
   "pygments_lexer": "ipython3",
   "version": "3.12.6"
  }
 },
 "nbformat": 4,
 "nbformat_minor": 5
}
